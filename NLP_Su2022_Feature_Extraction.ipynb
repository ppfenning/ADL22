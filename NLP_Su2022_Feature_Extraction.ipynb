{
  "nbformat": 4,
  "nbformat_minor": 0,
  "metadata": {
    "colab": {
      "name": "NLP Su2022 - Feature Extraction.ipynb",
      "provenance": [],
      "include_colab_link": true
    },
    "kernelspec": {
      "name": "python3",
      "display_name": "Python 3"
    },
    "language_info": {
      "name": "python"
    }
  },
  "cells": [
    {
      "cell_type": "markdown",
      "metadata": {
        "id": "view-in-github",
        "colab_type": "text"
      },
      "source": [
        "<a href=\"https://colab.research.google.com/github/pfenningpat/ADL22/blob/master/NLP_Su2022_Feature_Extraction.ipynb\" target=\"_parent\"><img src=\"https://colab.research.google.com/assets/colab-badge.svg\" alt=\"Open In Colab\"/></a>"
      ]
    },
    {
      "cell_type": "markdown",
      "source": [
        "**N-Grams**"
      ],
      "metadata": {
        "id": "h5nB3ei_OLpr"
      }
    },
    {
      "cell_type": "code",
      "source": [
        "import re\n",
        "import nltk\n",
        "from nltk import *\n",
        "from nltk.tokenize import sent_tokenize, word_tokenize\n",
        "nltk.download('punkt')"
      ],
      "metadata": {
        "colab": {
          "base_uri": "https://localhost:8080/"
        },
        "id": "qvUZUVfFO9PL",
        "outputId": "bca5d6e2-5fac-47c2-a42c-1d34ca66f97f"
      },
      "execution_count": null,
      "outputs": [
        {
          "output_type": "stream",
          "name": "stdout",
          "text": [
            "[nltk_data] Downloading package punkt to /root/nltk_data...\n",
            "[nltk_data]   Unzipping tokenizers/punkt.zip.\n"
          ]
        },
        {
          "output_type": "execute_result",
          "data": {
            "text/plain": [
              "True"
            ]
          },
          "metadata": {},
          "execution_count": 10
        }
      ]
    },
    {
      "cell_type": "code",
      "execution_count": null,
      "metadata": {
        "id": "InwH2oyUN6k_"
      },
      "outputs": [],
      "source": [
        "def n_gram_extractor(sentence, n):\n",
        "  tokens = re.sub(r'([^\\s\\w]|_)+', ' ', sentence).split()\n",
        "  for i in range(len(tokens)-n+1):\n",
        "    print(tokens[i:i+n])\n"
      ]
    },
    {
      "cell_type": "code",
      "source": [
        "n_gram_extractor('The cute little boy is playing with the kitten.', 3)"
      ],
      "metadata": {
        "colab": {
          "base_uri": "https://localhost:8080/"
        },
        "id": "dJrlB4ggOsWS",
        "outputId": "a598c714-ec27-406b-c6e1-ed5000fdaaa7"
      },
      "execution_count": null,
      "outputs": [
        {
          "output_type": "stream",
          "name": "stdout",
          "text": [
            "['The', 'cute', 'little']\n",
            "['cute', 'little', 'boy']\n",
            "['little', 'boy', 'is']\n",
            "['boy', 'is', 'playing']\n",
            "['is', 'playing', 'with']\n",
            "['playing', 'with', 'the']\n",
            "['with', 'the', 'kitten']\n"
          ]
        }
      ]
    },
    {
      "cell_type": "code",
      "source": [
        "# using nltk library\n",
        "from nltk import ngrams\n",
        "list(ngrams('The cute little boy is playing with the kitten.'.split(), 2))\n"
      ],
      "metadata": {
        "colab": {
          "base_uri": "https://localhost:8080/"
        },
        "id": "Bqp3cWKqPNEZ",
        "outputId": "a6150e43-b123-470d-f400-adf0da4e3daa"
      },
      "execution_count": null,
      "outputs": [
        {
          "output_type": "execute_result",
          "data": {
            "text/plain": [
              "[('The', 'cute'),\n",
              " ('cute', 'little'),\n",
              " ('little', 'boy'),\n",
              " ('boy', 'is'),\n",
              " ('is', 'playing'),\n",
              " ('playing', 'with'),\n",
              " ('with', 'the'),\n",
              " ('the', 'kitten.')]"
            ]
          },
          "metadata": {},
          "execution_count": 8
        }
      ]
    },
    {
      "cell_type": "code",
      "source": [
        "#using TextBlob\n",
        "from textblob import TextBlob\n",
        "blob = TextBlob(\"The cute little boy is playing with the kitten.\")\n",
        "blob.ngrams(n=2)\n"
      ],
      "metadata": {
        "colab": {
          "base_uri": "https://localhost:8080/"
        },
        "id": "V2i2wEm5PtOW",
        "outputId": "82d9b61a-e1ea-47b2-fb9c-2cadc92c3b2e"
      },
      "execution_count": null,
      "outputs": [
        {
          "output_type": "execute_result",
          "data": {
            "text/plain": [
              "[WordList(['The', 'cute']),\n",
              " WordList(['cute', 'little']),\n",
              " WordList(['little', 'boy']),\n",
              " WordList(['boy', 'is']),\n",
              " WordList(['is', 'playing']),\n",
              " WordList(['playing', 'with']),\n",
              " WordList(['with', 'the']),\n",
              " WordList(['the', 'kitten'])]"
            ]
          },
          "metadata": {},
          "execution_count": 11
        }
      ]
    },
    {
      "cell_type": "code",
      "source": [
        "sent = 'NLP enables computers to understand natural language as humans do. Whether the language is spoken or written, natural language processing uses artificial intelligence to take real-world input, process it, and make sense of it in a way a computer can understand. Just as humans have different sensors -- such as ears to hear and eyes to see -- computers have programs to read and microphones to collect audio. And just as humans have a brain to process that input, computers have a program to process their respective inputs. At some point in processing, the input is converted to code that the computer can understand.'"
      ],
      "metadata": {
        "id": "2mMiK9KkSGAd"
      },
      "execution_count": null,
      "outputs": []
    },
    {
      "cell_type": "code",
      "source": [
        "from textblob import TextBlob\n",
        "from nltk.tokenize import TweetTokenizer"
      ],
      "metadata": {
        "id": "ePwENmQ1SU_3"
      },
      "execution_count": null,
      "outputs": []
    },
    {
      "cell_type": "code",
      "source": [
        "from keras.preprocessing.text import text_to_word_sequence"
      ],
      "metadata": {
        "id": "0VaDjJw2SxVg"
      },
      "execution_count": null,
      "outputs": []
    },
    {
      "cell_type": "code",
      "source": [
        "text_to_word_sequence(sent)"
      ],
      "metadata": {
        "id": "8UnXpgAvTCxF"
      },
      "execution_count": null,
      "outputs": []
    },
    {
      "cell_type": "code",
      "source": [
        ""
      ],
      "metadata": {
        "id": "0T1-u7CCUFoH"
      },
      "execution_count": null,
      "outputs": []
    },
    {
      "cell_type": "code",
      "source": [
        "blob = TextBlob(sent)\n",
        "blob.words"
      ],
      "metadata": {
        "colab": {
          "base_uri": "https://localhost:8080/"
        },
        "id": "TDLKqNdETNuH",
        "outputId": "83506408-3f8a-48be-f810-9cbcae285315"
      },
      "execution_count": null,
      "outputs": [
        {
          "output_type": "execute_result",
          "data": {
            "text/plain": [
              "WordList(['NLP', 'enables', 'computers', 'to', 'understand', 'natural', 'language', 'as', 'humans', 'do', 'Whether', 'the', 'language', 'is', 'spoken', 'or', 'written', 'natural', 'language', 'processing', 'uses', 'artificial', 'intelligence', 'to', 'take', 'real-world', 'input', 'process', 'it', 'and', 'make', 'sense', 'of', 'it', 'in', 'a', 'way', 'a', 'computer', 'can', 'understand', 'Just', 'as', 'humans', 'have', 'different', 'sensors', 'such', 'as', 'ears', 'to', 'hear', 'and', 'eyes', 'to', 'see', 'computers', 'have', 'programs', 'to', 'read', 'and', 'microphones', 'to', 'collect', 'audio', 'And', 'just', 'as', 'humans', 'have', 'a', 'brain', 'to', 'process', 'that', 'input', 'computers', 'have', 'a', 'program', 'to', 'process', 'their', 'respective', 'inputs', 'At', 'some', 'point', 'in', 'processing', 'the', 'input', 'is', 'converted', 'to', 'code', 'that', 'the', 'computer', 'can', 'understand'])"
            ]
          },
          "metadata": {},
          "execution_count": 19
        }
      ]
    },
    {
      "cell_type": "code",
      "source": [
        "t = TweetTokenizer()\n",
        "t.tokenize(sent)"
      ],
      "metadata": {
        "id": "sPu8yeSsTezL"
      },
      "execution_count": null,
      "outputs": []
    },
    {
      "cell_type": "code",
      "source": [
        "sentence = 'Sunil tweeted, \"Witnessing 70th Republic Day of India from Rajpath, \\\n",
        "New Delhi. Mesmerizing performance by Indian Army! Awesome airshow! @india_official \\\n",
        "@indian_army #India #70thRepublic_Day. For more photos ping me sunil@photoking.com :)\"'\n"
      ],
      "metadata": {
        "id": "sSP8Pa0KUHNg"
      },
      "execution_count": null,
      "outputs": []
    },
    {
      "cell_type": "code",
      "source": [
        "from nltk.tokenize import MWETokenizer"
      ],
      "metadata": {
        "id": "4G5kcZLVTukB"
      },
      "execution_count": null,
      "outputs": []
    },
    {
      "cell_type": "code",
      "source": [
        "mwe_tokenizer = MWETokenizer([('Republic', 'Day')])\n",
        "mwe_tokenizer.add_mwe(('Indian', 'Army'))\n",
        "#mwe_tokenizer.tokenize(sentence.split())\n",
        "mwe_tokenizer.tokenize(sentence.replace('!','').split())"
      ],
      "metadata": {
        "id": "P-9fe3NtT5nm"
      },
      "execution_count": null,
      "outputs": []
    },
    {
      "cell_type": "markdown",
      "source": [
        "**Stemming**"
      ],
      "metadata": {
        "id": "gqiDp-hlWoZw"
      }
    },
    {
      "cell_type": "code",
      "source": [
        "from nltk.stem import RegexpStemmer\n",
        "re_stemmer = RegexpStemmer('ing$', 4)\n",
        "' '.join([re_stemmer.stem(wd) for wd in sentence.split()])\n"
      ],
      "metadata": {
        "colab": {
          "base_uri": "https://localhost:8080/",
          "height": 53
        },
        "id": "oDv7C07XVWI3",
        "outputId": "8fd7f9af-6612-49a8-d359-c2d18de91719"
      },
      "execution_count": null,
      "outputs": [
        {
          "output_type": "execute_result",
          "data": {
            "text/plain": [
              "'Sunil tweeted, \"Witness 70th Republic Day of India from Rajpath, New Delhi. Mesmeriz performance by Indian Army Awesome airshow! @india_official @indian_army #India #70thRepublic_Day. For more photos p me sunil@photoking.com :)\"'"
            ],
            "application/vnd.google.colaboratory.intrinsic+json": {
              "type": "string"
            }
          },
          "metadata": {},
          "execution_count": 31
        }
      ]
    },
    {
      "cell_type": "code",
      "source": [
        "#Porter Stemmer\n",
        "from nltk.stem.porter import *"
      ],
      "metadata": {
        "id": "neaeKyZzYr__"
      },
      "execution_count": null,
      "outputs": []
    },
    {
      "cell_type": "code",
      "source": [
        "ps_stemmer = PorterStemmer()\n",
        "' '.join([ps_stemmer.stem(wd) for wd in sentence.split()])"
      ],
      "metadata": {
        "colab": {
          "base_uri": "https://localhost:8080/",
          "height": 53
        },
        "id": "kSjZ0ghoY1AY",
        "outputId": "45b543f4-a0ac-4c96-adf1-b06aa9a8bebe"
      },
      "execution_count": null,
      "outputs": [
        {
          "output_type": "execute_result",
          "data": {
            "text/plain": [
              "'sunil tweeted, \"wit 70th republ day of india from rajpath, new delhi. mesmer perform by indian armi awesom airshow! @india_offici @indian_armi #india #70threpublic_day. for more photo ping me sunil@photoking.com :)\"'"
            ],
            "application/vnd.google.colaboratory.intrinsic+json": {
              "type": "string"
            }
          },
          "metadata": {},
          "execution_count": 33
        }
      ]
    },
    {
      "cell_type": "markdown",
      "source": [
        "Lemmatization"
      ],
      "metadata": {
        "id": "5yiGiot_ZMHh"
      }
    },
    {
      "cell_type": "code",
      "source": [
        "import nltk\n",
        "from nltk.stem import WordNetLemmatizer\n",
        "from nltk import word_tokenize\n",
        "nltk.download('wordnet')\n",
        "lemmatizer = WordNetLemmatizer()"
      ],
      "metadata": {
        "colab": {
          "base_uri": "https://localhost:8080/"
        },
        "id": "JiAotFYEZJNP",
        "outputId": "4e9fb8bd-31a9-4bf7-c8be-245969caef10"
      },
      "execution_count": null,
      "outputs": [
        {
          "output_type": "stream",
          "name": "stdout",
          "text": [
            "[nltk_data] Downloading package wordnet to /root/nltk_data...\n",
            "[nltk_data]   Unzipping corpora/wordnet.zip.\n"
          ]
        }
      ]
    },
    {
      "cell_type": "code",
      "source": [
        "' '.join([lemmatizer.lemmatize(word) for word in word_tokenize(sentence)])"
      ],
      "metadata": {
        "colab": {
          "base_uri": "https://localhost:8080/",
          "height": 70
        },
        "id": "xRHL8rY6ZasY",
        "outputId": "79adf7da-b626-49e8-be1a-63b954bc55d4"
      },
      "execution_count": null,
      "outputs": [
        {
          "output_type": "execute_result",
          "data": {
            "text/plain": [
              "\"Sunil tweeted , `` Witnessing 70th Republic Day of India from Rajpath , New Delhi . Mesmerizing performance by Indian Army Awesome airshow ! @ india_official @ indian_army # India # 70thRepublic_Day . For more photo ping me sunil @ photoking.com : ) ''\""
            ],
            "application/vnd.google.colaboratory.intrinsic+json": {
              "type": "string"
            }
          },
          "metadata": {},
          "execution_count": 35
        }
      ]
    },
    {
      "cell_type": "code",
      "source": [
        "\n"
      ],
      "metadata": {
        "id": "2NTIISMmaDIL"
      },
      "execution_count": null,
      "outputs": []
    },
    {
      "cell_type": "markdown",
      "source": [
        "Using TextBllob, try singularize(), pluralize(), translate() etc"
      ],
      "metadata": {
        "id": "Wx8derNsaKiS"
      }
    },
    {
      "cell_type": "code",
      "source": [
        "sent_blob = TextBlob(sentence)"
      ],
      "metadata": {
        "id": "AS-JJ1w3aaui"
      },
      "execution_count": null,
      "outputs": []
    },
    {
      "cell_type": "code",
      "source": [
        "sent_blob.words.pluralize()"
      ],
      "metadata": {
        "colab": {
          "base_uri": "https://localhost:8080/"
        },
        "id": "9IdKBSwbaqBx",
        "outputId": "9861ad31-24f1-44e9-889e-3992a6a143f9"
      },
      "execution_count": null,
      "outputs": [
        {
          "output_type": "execute_result",
          "data": {
            "text/plain": [
              "WordList(['Sunils', 'tweeteds', 'Witnessings', '70ths', 'Republics', 'Days', 'ofs', 'Indias', 'froms', 'Rajpaths', 'News', 'Delhis', 'Mesmerizings', 'performances', 'bies', 'Indians', 'Armys', 'Awesomes', 'airshows', 'india_officials', 'indian_armies', 'Indias', '70thRepublic_Days', 'Fors', 'mores', 'photoss', 'pings', 'us', 'sunils', 'photoking.coms'])"
            ]
          },
          "metadata": {},
          "execution_count": 42
        }
      ]
    },
    {
      "cell_type": "code",
      "source": [
        "stop_words = ['he', 'the', 'am','she', 'is' ]\n",
        "' '.join([w for w in word_tokenize(sentence) if w.lower() not in stop_words])"
      ],
      "metadata": {
        "colab": {
          "base_uri": "https://localhost:8080/",
          "height": 70
        },
        "id": "UPHGF3SVbIQ0",
        "outputId": "be02c18f-e3fe-4f46-cae9-0d324d0a0708"
      },
      "execution_count": null,
      "outputs": [
        {
          "output_type": "execute_result",
          "data": {
            "text/plain": [
              "\"Sunil tweeted , `` Witnessing 70th Republic Day of India from Rajpath , New Delhi . Mesmerizing performance by Indian Army Awesome airshow ! @ india_official @ indian_army # India # 70thRepublic_Day . For more photos ping me sunil @ photoking.com : ) ''\""
            ],
            "application/vnd.google.colaboratory.intrinsic+json": {
              "type": "string"
            }
          },
          "metadata": {},
          "execution_count": 43
        }
      ]
    },
    {
      "cell_type": "code",
      "source": [
        "import pandas as pd\n",
        "df = pd.DataFrame([[sent], [sentence], [sent_blob]])\n",
        "df.columns = ['sentences']\n",
        "df"
      ],
      "metadata": {
        "colab": {
          "base_uri": "https://localhost:8080/",
          "height": 143
        },
        "id": "JtwX0iUPcEAm",
        "outputId": "4d691795-14f3-4e6b-9dc2-9f17421fd227"
      },
      "execution_count": null,
      "outputs": [
        {
          "output_type": "execute_result",
          "data": {
            "text/plain": [
              "                                           sentences\n",
              "0  NLP enables computers to understand natural la...\n",
              "1  Sunil tweeted, \"Witnessing 70th Republic Day o...\n",
              "2  (S, u, n, i, l,  , t, w, e, e, t, e, d, ,,  , ..."
            ],
            "text/html": [
              "\n",
              "  <div id=\"df-f6517b81-bf24-4170-9a0a-f46e57ce233d\">\n",
              "    <div class=\"colab-df-container\">\n",
              "      <div>\n",
              "<style scoped>\n",
              "    .dataframe tbody tr th:only-of-type {\n",
              "        vertical-align: middle;\n",
              "    }\n",
              "\n",
              "    .dataframe tbody tr th {\n",
              "        vertical-align: top;\n",
              "    }\n",
              "\n",
              "    .dataframe thead th {\n",
              "        text-align: right;\n",
              "    }\n",
              "</style>\n",
              "<table border=\"1\" class=\"dataframe\">\n",
              "  <thead>\n",
              "    <tr style=\"text-align: right;\">\n",
              "      <th></th>\n",
              "      <th>sentences</th>\n",
              "    </tr>\n",
              "  </thead>\n",
              "  <tbody>\n",
              "    <tr>\n",
              "      <th>0</th>\n",
              "      <td>NLP enables computers to understand natural la...</td>\n",
              "    </tr>\n",
              "    <tr>\n",
              "      <th>1</th>\n",
              "      <td>Sunil tweeted, \"Witnessing 70th Republic Day o...</td>\n",
              "    </tr>\n",
              "    <tr>\n",
              "      <th>2</th>\n",
              "      <td>(S, u, n, i, l,  , t, w, e, e, t, e, d, ,,  , ...</td>\n",
              "    </tr>\n",
              "  </tbody>\n",
              "</table>\n",
              "</div>\n",
              "      <button class=\"colab-df-convert\" onclick=\"convertToInteractive('df-f6517b81-bf24-4170-9a0a-f46e57ce233d')\"\n",
              "              title=\"Convert this dataframe to an interactive table.\"\n",
              "              style=\"display:none;\">\n",
              "        \n",
              "  <svg xmlns=\"http://www.w3.org/2000/svg\" height=\"24px\"viewBox=\"0 0 24 24\"\n",
              "       width=\"24px\">\n",
              "    <path d=\"M0 0h24v24H0V0z\" fill=\"none\"/>\n",
              "    <path d=\"M18.56 5.44l.94 2.06.94-2.06 2.06-.94-2.06-.94-.94-2.06-.94 2.06-2.06.94zm-11 1L8.5 8.5l.94-2.06 2.06-.94-2.06-.94L8.5 2.5l-.94 2.06-2.06.94zm10 10l.94 2.06.94-2.06 2.06-.94-2.06-.94-.94-2.06-.94 2.06-2.06.94z\"/><path d=\"M17.41 7.96l-1.37-1.37c-.4-.4-.92-.59-1.43-.59-.52 0-1.04.2-1.43.59L10.3 9.45l-7.72 7.72c-.78.78-.78 2.05 0 2.83L4 21.41c.39.39.9.59 1.41.59.51 0 1.02-.2 1.41-.59l7.78-7.78 2.81-2.81c.8-.78.8-2.07 0-2.86zM5.41 20L4 18.59l7.72-7.72 1.47 1.35L5.41 20z\"/>\n",
              "  </svg>\n",
              "      </button>\n",
              "      \n",
              "  <style>\n",
              "    .colab-df-container {\n",
              "      display:flex;\n",
              "      flex-wrap:wrap;\n",
              "      gap: 12px;\n",
              "    }\n",
              "\n",
              "    .colab-df-convert {\n",
              "      background-color: #E8F0FE;\n",
              "      border: none;\n",
              "      border-radius: 50%;\n",
              "      cursor: pointer;\n",
              "      display: none;\n",
              "      fill: #1967D2;\n",
              "      height: 32px;\n",
              "      padding: 0 0 0 0;\n",
              "      width: 32px;\n",
              "    }\n",
              "\n",
              "    .colab-df-convert:hover {\n",
              "      background-color: #E2EBFA;\n",
              "      box-shadow: 0px 1px 2px rgba(60, 64, 67, 0.3), 0px 1px 3px 1px rgba(60, 64, 67, 0.15);\n",
              "      fill: #174EA6;\n",
              "    }\n",
              "\n",
              "    [theme=dark] .colab-df-convert {\n",
              "      background-color: #3B4455;\n",
              "      fill: #D2E3FC;\n",
              "    }\n",
              "\n",
              "    [theme=dark] .colab-df-convert:hover {\n",
              "      background-color: #434B5C;\n",
              "      box-shadow: 0px 1px 3px 1px rgba(0, 0, 0, 0.15);\n",
              "      filter: drop-shadow(0px 1px 2px rgba(0, 0, 0, 0.3));\n",
              "      fill: #FFFFFF;\n",
              "    }\n",
              "  </style>\n",
              "\n",
              "      <script>\n",
              "        const buttonEl =\n",
              "          document.querySelector('#df-f6517b81-bf24-4170-9a0a-f46e57ce233d button.colab-df-convert');\n",
              "        buttonEl.style.display =\n",
              "          google.colab.kernel.accessAllowed ? 'block' : 'none';\n",
              "\n",
              "        async function convertToInteractive(key) {\n",
              "          const element = document.querySelector('#df-f6517b81-bf24-4170-9a0a-f46e57ce233d');\n",
              "          const dataTable =\n",
              "            await google.colab.kernel.invokeFunction('convertToInteractive',\n",
              "                                                     [key], {});\n",
              "          if (!dataTable) return;\n",
              "\n",
              "          const docLinkHtml = 'Like what you see? Visit the ' +\n",
              "            '<a target=\"_blank\" href=https://colab.research.google.com/notebooks/data_table.ipynb>data table notebook</a>'\n",
              "            + ' to learn more about interactive tables.';\n",
              "          element.innerHTML = '';\n",
              "          dataTable['output_type'] = 'display_data';\n",
              "          await google.colab.output.renderOutput(dataTable, element);\n",
              "          const docLink = document.createElement('div');\n",
              "          docLink.innerHTML = docLinkHtml;\n",
              "          element.appendChild(docLink);\n",
              "        }\n",
              "      </script>\n",
              "    </div>\n",
              "  </div>\n",
              "  "
            ]
          },
          "metadata": {},
          "execution_count": 46
        }
      ]
    },
    {
      "cell_type": "code",
      "source": [
        ""
      ],
      "metadata": {
        "id": "8e-RFAZzdAj7"
      },
      "execution_count": null,
      "outputs": []
    },
    {
      "cell_type": "markdown",
      "source": [
        "Create dataframe for the 5 most recent inaugural speeches\n",
        "Create a third column with the number of tokens in each speech\n",
        "Create a fourth column with the number of sentences in each speech\n",
        "Create a fifth column with the most occuring word in each speech\n",
        "*Extend this to n,m inaugural speeches, given that n is beggining year and m is the ending year\n",
        "\n",
        "*Stretch your skill to do this, but it is not compulsory\n",
        "\n",
        "Share your notebook with me by end of day on 6/7/2022\n",
        "Also upload a screenshot of your dataframe for the first few elements in Brightspace."
      ],
      "metadata": {
        "id": "bYQA028mdCSA"
      }
    }
  ]
}